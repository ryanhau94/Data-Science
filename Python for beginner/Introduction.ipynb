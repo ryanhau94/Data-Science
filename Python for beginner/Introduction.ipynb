{
 "cells": [
  {
   "cell_type": "code",
   "execution_count": null,
   "metadata": {},
   "outputs": [],
   "source": [
    "# Say \"Hello, World!\" With Python\n",
    "# https://www.hackerrank.com/challenges/py-hello-world/problem\n",
    "\n",
    "print(\"Hello, World!\")"
   ]
  },
  {
   "cell_type": "code",
   "execution_count": 6,
   "metadata": {},
   "outputs": [
    {
     "output_type": "stream",
     "name": "stdout",
     "text": "Not Weird\n"
    }
   ],
   "source": [
    "# Python If-Else\n",
    "# https://www.hackerrank.com/challenges/py-if-else/problem\n",
    "\n",
    "n = int(input().strip())\n",
    "if (n&1 == 1) or (n&1==0 and n>=6 and n<=20):\n",
    "    print(\"Weird\")\n",
    "else:\n",
    "    print(\"Not Weird\")"
   ]
  },
  {
   "cell_type": "code",
   "execution_count": 1,
   "metadata": {},
   "outputs": [
    {
     "output_type": "stream",
     "name": "stdout",
     "text": "0\n0.5\n"
    }
   ],
   "source": [
    "# Python: Division\n",
    "# https://www.hackerrank.com/challenges/python-division/problem\n",
    "\n",
    "if __name__ == '__main__':\n",
    "    a = int(input())\n",
    "    b = int(input())\n",
    "    print(a//b)\n",
    "    print(a/b)"
   ]
  },
  {
   "cell_type": "code",
   "execution_count": 2,
   "metadata": {},
   "outputs": [
    {
     "output_type": "stream",
     "name": "stdout",
     "text": "0\n1\n4\n9\n16\n"
    }
   ],
   "source": [
    "# Loops\n",
    "# https://www.hackerrank.com/challenges/python-loops/problem\n",
    "if __name__ == '__main__':\n",
    "    n = int(input())\n",
    "    for x in range(0, n): print(x**2)"
   ]
  },
  {
   "cell_type": "code",
   "execution_count": 3,
   "metadata": {},
   "outputs": [
    {
     "output_type": "execute_result",
     "data": {
      "text/plain": "2"
     },
     "metadata": {},
     "execution_count": 3
    }
   ],
   "source": [
    "# Write a function\n",
    "# https://www.hackerrank.com/challenges/write-a-function/problem\n",
    "def is_leap(year):\n",
    "    leap = False\n",
    "    \n",
    "    # Write your logic here\n",
    "    if year%4==0 and year%100!=0 or year%400==0:\n",
    "        leap = True\n",
    "\n",
    "    return leap\n",
    "\n",
    "year = int(input())\n",
    "print(is_leap(year))"
   ]
  },
  {
   "cell_type": "code",
   "execution_count": null,
   "metadata": {},
   "outputs": [],
   "source": [
    "# Print Function from Hackerrank\n",
    "# https://www.hackerrank.com/challenges/python-print/problem\n",
    "\n",
    "if __name__ == '__main__':\n",
    "    n = int(input())\n",
    "    for x in range(1, n+1):\n",
    "        print(x, end=\"\", sep=\"\", flush=True)\n",
    "\n",
    "print('\\n')\n",
    "# alter \"end\"\n",
    "for x in range(1, n+1):\n",
    "    print(x, end=\"s\\n\", sep=\"\", flush=True)"
   ]
  }
 ],
 "metadata": {
  "language_info": {
   "codemirror_mode": {
    "name": "ipython",
    "version": 3
   },
   "file_extension": ".py",
   "mimetype": "text/x-python",
   "name": "python",
   "nbconvert_exporter": "python",
   "pygments_lexer": "ipython3",
   "version": "3.7.6-final"
  },
  "orig_nbformat": 2,
  "kernelspec": {
   "name": "python3",
   "display_name": "Python 3"
  }
 },
 "nbformat": 4,
 "nbformat_minor": 2
}