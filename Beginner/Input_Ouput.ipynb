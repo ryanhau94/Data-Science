{
 "cells": [
  {
   "cell_type": "code",
   "execution_count": 14,
   "metadata": {},
   "outputs": [
    {
     "output_type": "stream",
     "name": "stdout",
     "text": "123\n\n1s\n2s\n3s\n"
    }
   ],
   "source": [
    "# Print Function from Hackerrank\n",
    "# https://www.hackerrank.com/challenges/python-print/problem\n",
    "\n",
    "n = 3\n",
    "\n",
    "# Print without newline and space\n",
    "for x in range(1, n+1):\n",
    "    print(x, end=\"\", sep=\"\", flush=True)\n",
    "\n",
    "print('\\n')\n",
    "\n",
    "# alter \"end\"\n",
    "for x in range(1, n+1):\n",
    "    print(x, end=\"s\\n\", sep=\"\", flush=True)"
   ]
  },
  {
   "cell_type": "code",
   "execution_count": null,
   "metadata": {},
   "outputs": [],
   "source": []
  }
 ],
 "metadata": {
  "language_info": {
   "codemirror_mode": {
    "name": "ipython",
    "version": 3
   },
   "file_extension": ".py",
   "mimetype": "text/x-python",
   "name": "python",
   "nbconvert_exporter": "python",
   "pygments_lexer": "ipython3",
   "version": "3.7.6-final"
  },
  "orig_nbformat": 2,
  "kernelspec": {
   "name": "python3",
   "display_name": "Python 3"
  }
 },
 "nbformat": 4,
 "nbformat_minor": 2
}