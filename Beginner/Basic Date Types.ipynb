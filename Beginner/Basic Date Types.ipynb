{
 "cells": [
  {
   "cell_type": "code",
   "execution_count": 5,
   "metadata": {},
   "outputs": [
    {
     "output_type": "stream",
     "name": "stdout",
     "text": "[[0, 0, 0], [0, 0, 1], [0, 1, 0], [1, 0, 0], [1, 1, 1]]\n"
    }
   ],
   "source": [
    "# List Comprehensions\n",
    "# https://www.hackerrank.com/challenges/list-comprehensions/problem\n",
    "\n",
    "if __name__ == '__main__':\n",
    "    x = int(input())\n",
    "    y = int(input())\n",
    "    z = int(input())\n",
    "    n = int(input())\n",
    "\n",
    "    print ([[xi, yi, zi] for xi in range(x+1) for yi in range(y+1) for zi in range(z+1) if xi+yi+zi != n ])"
   ]
  },
  {
   "cell_type": "code",
   "execution_count": null,
   "metadata": {},
   "outputs": [],
   "source": [
    "# Find the Runner-Up Score! \n",
    "# https://www.hackerrank.com/challenges/find-second-maximum-number-in-a-list/problem\n",
    "if __name__ == '__main__':\n",
    "    n = int(input())\n",
    "    arr = map(int, input().split())\n",
    "\n",
    "    max1 = -999\n",
    "    max2 = -999\n",
    "    for x in set(arr):\n",
    "        if x > max1:\n",
    "            max2 = max1\n",
    "            max1 = x\n",
    "        elif x > max2:\n",
    "            max2 = x\n",
    "    \n",
    "    print(max2)"
   ]
  },
  {
   "cell_type": "code",
   "execution_count": 29,
   "metadata": {},
   "outputs": [],
   "source": [
    "# Nested Lists\n",
    "# https://www.hackerrank.com/challenges/nested-list/problem\n",
    "\n",
    "if __name__ == '__main__':\n",
    "    student = []\n",
    "    for _ in range(int(input())):\n",
    "        name = input()\n",
    "        score = float(input())\n",
    "        student.append([name, score])\n",
    "    \n",
    "    sort_score = sorted(set([row[1] for row in student]))\n",
    "    for st in sorted(student):\n",
    "        if st[1] == sort_score[1]:\n",
    "            print(st[0])"
   ]
  },
  {
   "cell_type": "code",
   "execution_count": 34,
   "metadata": {},
   "outputs": [],
   "source": [
    "# Finding the percentage\n",
    "# https://www.hackerrank.com/challenges/finding-the-percentage/problem\n",
    "\n",
    "if __name__ == '__main__':\n",
    "    n = int(input())\n",
    "    student_marks = {}\n",
    "    for _ in range(n):\n",
    "        name, *line = input().split()\n",
    "        scores = list(map(float, line))\n",
    "        student_marks[name] = scores\n",
    "    query_name = input()\n",
    "\n",
    "    print('%.2f'%(sum(student_marks[query_name])/3))"
   ]
  },
  {
   "cell_type": "code",
   "execution_count": null,
   "metadata": {},
   "outputs": [],
   "source": [
    "# Set .symmetric_difference() Operation\n",
    "# https://www.hackerrank.com/challenges/py-set-symmetric-difference-operation/problem\n",
    "\n",
    "int(input())\n",
    "setA = set(map(int, input().split()))\n",
    "\n",
    "int(input())\n",
    "setB = set(map(int, input().split()))\n",
    "\n",
    "print(len(list(setA.symmetric_difference(setB))))"
   ]
  }
 ],
 "metadata": {
  "language_info": {
   "codemirror_mode": {
    "name": "ipython",
    "version": 3
   },
   "file_extension": ".py",
   "mimetype": "text/x-python",
   "name": "python",
   "nbconvert_exporter": "python",
   "pygments_lexer": "ipython3",
   "version": "3.7.6-final"
  },
  "orig_nbformat": 2,
  "kernelspec": {
   "name": "python3",
   "display_name": "Python 3"
  }
 },
 "nbformat": 4,
 "nbformat_minor": 2
}