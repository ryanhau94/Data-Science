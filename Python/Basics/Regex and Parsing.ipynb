{
 "cells": [
  {
   "cell_type": "code",
   "execution_count": 7,
   "metadata": {},
   "outputs": [],
   "source": [
    "# Validating and Parsing Email Addresses\n",
    "# https://www.hackerrank.com/challenges/validating-named-email-addresses/problem\n",
    "\n",
    "# see rules @ https://docs.python.org/3/library/re.html\n",
    "import email.utils\n",
    "import re\n",
    "\n",
    "for _ in range(int(input())):\n",
    "    name, addr = email.utils.parseaddr(input())\n",
    "    matchObj = re.match(r'[A-Za-z][\\w._-]+@[A-Za-z]+\\.[A-Za-z]{1,3}\\Z', addr)\n",
    "    if matchObj:\n",
    "        print(email.utils.formataddr((name, addr)))"
   ]
  }
 ],
 "metadata": {
  "language_info": {
   "codemirror_mode": {
    "name": "ipython",
    "version": 3
   },
   "file_extension": ".py",
   "mimetype": "text/x-python",
   "name": "python",
   "nbconvert_exporter": "python",
   "pygments_lexer": "ipython3",
   "version": "3.7.6-final"
  },
  "orig_nbformat": 2,
  "kernelspec": {
   "name": "python3",
   "display_name": "Python 3"
  }
 },
 "nbformat": 4,
 "nbformat_minor": 2
}