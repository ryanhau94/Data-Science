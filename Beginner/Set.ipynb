{
 "cells": [
  {
   "cell_type": "code",
   "execution_count": null,
   "metadata": {},
   "outputs": [],
   "source": [
    "# Introduction to Sets\n",
    "# https://www.hackerrank.com/challenges/py-introduction-to-sets/problem\n",
    "\n",
    "def average(array):\n",
    "    # your code goes here\n",
    "    date = set(array)\n",
    "    return sum(date)/len(date)\n",
    "\n",
    "if __name__ == '__main__':\n",
    "    n = int(input())\n",
    "    arr = list(map(int, input().split()))\n",
    "    result = average(arr)\n",
    "    print(result)"
   ]
  },
  {
   "cell_type": "code",
   "execution_count": null,
   "metadata": {},
   "outputs": [],
   "source": [
    "# Check Subset\n",
    "# https://www.hackerrank.com/challenges/py-check-subset/problem\n",
    "# Enter your code here. Read input from STDIN. Print output to STDOUT\n",
    "TN = int(input())\n",
    "for _ in range(0, TN):\n",
    "    ss_flag = \"True\"\n",
    "\n",
    "    int(input())\n",
    "    setA = set(input().split())\n",
    "    \n",
    "    int(input())\n",
    "    setB = set(input().split())\n",
    "\n",
    "    for ai in setA:\n",
    "        if ai not in setB:\n",
    "            ss_flag = \"False\"\n",
    "            break\n",
    "    \n",
    "    print(ss_flag)"
   ]
  }
 ],
 "metadata": {
  "language_info": {
   "codemirror_mode": {
    "name": "ipython",
    "version": 3
   },
   "file_extension": ".py",
   "mimetype": "text/x-python",
   "name": "python",
   "nbconvert_exporter": "python",
   "pygments_lexer": "ipython3",
   "version": 3
  },
  "orig_nbformat": 2
 },
 "nbformat": 4,
 "nbformat_minor": 2
}