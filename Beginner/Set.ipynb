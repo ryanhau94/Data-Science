{
 "cells": [
  {
   "cell_type": "code",
   "execution_count": null,
   "metadata": {},
   "outputs": [],
   "source": [
    "# Introduction to Sets\n",
    "# https://www.hackerrank.com/challenges/py-introduction-to-sets/problem\n",
    "\n",
    "def average(array):\n",
    "    # your code goes here\n",
    "    date = set(array)\n",
    "    return sum(date)/len(date)\n",
    "\n",
    "if __name__ == '__main__':\n",
    "    n = int(input())\n",
    "    arr = list(map(int, input().split()))\n",
    "    result = average(arr)\n",
    "    print(result)"
   ]
  },
  {
   "cell_type": "code",
   "execution_count": null,
   "metadata": {},
   "outputs": [],
   "source": [
    "# Check Subset\n",
    "# https://www.hackerrank.com/challenges/py-check-subset/problem\n",
    "# Enter your code here. Read input from STDIN. Print output to STDOUT\n",
    "TN = int(input())\n",
    "for _ in range(0, TN):\n",
    "    ss_flag = \"True\"\n",
    "\n",
    "    int(input())\n",
    "    setA = set(input().split())\n",
    "    \n",
    "    int(input())\n",
    "    setB = set(input().split())\n",
    "\n",
    "    for ai in setA:\n",
    "        if ai not in setB:\n",
    "            ss_flag = \"False\"\n",
    "            break\n",
    "    \n",
    "    print(ss_flag)"
   ]
  },
  {
   "cell_type": "code",
   "execution_count": 23,
   "metadata": {},
   "outputs": [],
   "source": [
    "# Symmetric Difference\n",
    "# https://www.hackerrank.com/challenges/symmetric-difference/problem\n",
    "int(input())\n",
    "setA = set(map(int, input().split()))\n",
    "\n",
    "int(input())\n",
    "setB = set(map(int, input().split()))\n",
    "\n",
    "sd = list(setA.symmetric_difference(setB))\n",
    "sd.sort()\n",
    "for x in sd:\n",
    "    print(x)"
   ]
  },
  {
   "cell_type": "code",
   "execution_count": 27,
   "metadata": {},
   "outputs": [],
   "source": [
    "# No Idea!\n",
    "# https://www.hackerrank.com/challenges/no-idea/problem\n",
    "\n",
    "input()\n",
    "\n",
    "arr = list(input().split())\n",
    "setA = set(input().split())\n",
    "setB = set(input().split())\n",
    "\n",
    "# cnt = 0\n",
    "# for x in set(arr):\n",
    "#     appr = arr.count(x)\n",
    "\n",
    "#     if x in setA:\n",
    "#         cnt += appr\n",
    "#     elif x in setB:\n",
    "#         cnt -= appr\n",
    "\n",
    "# print(cnt)\n",
    "\n",
    "print(sum((di in setA)-(di in setB) for di in arr))"
   ]
  },
  {
   "cell_type": "code",
   "execution_count": null,
   "metadata": {},
   "outputs": [],
   "source": [
    "# Set .add() \n",
    "# https://www.hackerrank.com/challenges/py-set-add/problem\n",
    "nT = int(input())\n",
    "\n",
    "mySet = set()\n",
    "for _ in range(0, nT):\n",
    "    mySet.add(input())\n",
    "\n",
    "print(len(mySet))"
   ]
  }
 ],
 "metadata": {
  "language_info": {
   "codemirror_mode": {
    "name": "ipython",
    "version": 3
   },
   "file_extension": ".py",
   "mimetype": "text/x-python",
   "name": "python",
   "nbconvert_exporter": "python",
   "pygments_lexer": "ipython3",
   "version": 3
  },
  "orig_nbformat": 2,
  "kernelspec": {
   "name": "python3",
   "display_name": "Python 3"
  }
 },
 "nbformat": 4,
 "nbformat_minor": 2
}